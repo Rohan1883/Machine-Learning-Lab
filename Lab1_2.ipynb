{
 "cells": [
  {
   "cell_type": "code",
   "execution_count": null,
   "metadata": {},
   "outputs": [],
   "source": [
    "#import the necessary libraries\n",
    "import pandas as pd\n",
    "import numpy as np\n",
    "import matplotlib.pyplot as plt\n",
    "\n",
    "#load the dataset and explore it\n",
    "df = pd.read_csv(\"/content/kc_house_data.csv\")\n",
    "df.head(5)"
   ]
  },
  {
   "cell_type": "markdown",
   "metadata": {},
   "source": [
    "\n",
    "def CostFunction(x,y,w,b):\n",
    "    m = len(y)\n",
    "    loss = (((x.dot(w) + b) - y)**2)/2\n",
    "    cost = np.sum(cost/m)\n",
    "    return cost"
   ]
  },
  {
   "cell_type": "markdown",
   "metadata": {},
   "source": [
    "def GradientDescent(x,y,w,b,learning_rate, epochs):\n",
    "    cost_list = [0] * epochs\n",
    "    m = len(y) #the number of training examples\n",
    "\n",
    "    for epoch in range(epochs):\n",
    "        residuals = (x.dot(w) + b) - y\n",
    "\n",
    "        #we find the rate of descent to use for updating the weights\n",
    "        update_weight = x.T.dot(residuals) / m\n",
    "        update_bias = np.sum(residuals) / m\n",
    "\n",
    "        #we update the weights\n",
    "        w -= update_weight * learning_rate\n",
    "        b -= update_bias * learning_rate\n",
    "\n",
    "        # we find the cost of each subsequent iteration and assign to cost list\n",
    "        cost = CostFunctions(x,y,w,b)\n",
    "        cost_list[epoch] = cost\n",
    "\n",
    "        #We print the cost at various levels of epochs\n",
    "        if epoch % (epochs/10) == 0:\n",
    "            print(f'The cost function at epoch {epoch} is {cost: .3f}')\n",
    "    \n",
    "    #we return the final weights\n",
    "    return w, b, cost_list"
   ]
  },
  {
   "cell_type": "markdown",
   "metadata": {},
   "source": [
    "\n",
    "initial_Weights = np.zeros(x.shape[1])\n",
    "initial_bias = 0\n",
    "learning_rate = 0.01\n",
    "epochs = 2000\n",
    "\n",
    "w,b,c = GradientDescent(x,y, initial_Weights, initial_bias, learning_rate, epochs)"
   ]
  }
 ],
 "metadata": {
  "language_info": {
   "name": "python"
  },
  "orig_nbformat": 4
 },
 "nbformat": 4,
 "nbformat_minor": 2
}
